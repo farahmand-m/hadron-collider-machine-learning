{
 "nbformat": 4,
 "nbformat_minor": 0,
 "metadata": {
  "kernelspec": {
   "name": "python3",
   "language": "python",
   "display_name": "Python 3"
  },
  "language_info": {
   "codemirror_mode": {
    "name": "ipython",
    "version": 3
   },
   "file_extension": ".py",
   "mimetype": "text/x-python",
   "name": "python",
   "nbconvert_exporter": "python",
   "pygments_lexer": "ipython3",
   "version": "3.5.1"
  },
  "colab": {
   "name": "LHC Week 3",
   "provenance": [],
   "toc_visible": true,
   "include_colab_link": true
  },
  "accelerator": "GPU",
  "pycharm": {
   "stem_cell": {
    "cell_type": "raw",
    "source": [],
    "metadata": {
     "collapsed": false
    }
   }
  }
 },
 "cells": [
  {
   "cell_type": "code",
   "metadata": {
    "id": "W21Wtcfrqk0-",
    "colab_type": "code",
    "outputId": "884eddff-bb36-4416-d045-ce8fb2139bb1",
    "colab": {
     "base_uri": "https://localhost:8080/",
     "height": 34
    },
    "pycharm": {
     "is_executing": false
    }
   },
   "source": [
    "%pylab inline"
   ],
   "execution_count": 1,
   "outputs": [
    {
     "name": "stdout",
     "text": [
      "Populating the interactive namespace from numpy and matplotlib\n"
     ],
     "output_type": "stream"
    }
   ]
  },
  {
   "cell_type": "code",
   "metadata": {
    "id": "RR06HSO5qk1G",
    "colab_type": "code",
    "colab": {},
    "pycharm": {
     "is_executing": false
    }
   },
   "source": [
    "import pandas\n",
    "from sklearn.model_selection import train_test_split\n",
    "\n",
    "from sklearn.ensemble import AdaBoostClassifier\n",
    "from sklearn.tree import DecisionTreeClassifier\n",
    "\n",
    "from sklearn.metrics import roc_curve, roc_auc_score\n",
    "\n",
    "from hep_ml import metrics"
   ],
   "execution_count": 2,
   "outputs": [
    {
     "name": "stderr",
     "text": [
      "/home/mohammad/PycharmProjects/Large Hadron Collider Challenges/venv/lib/python3.7/site-packages/sklearn/utils/deprecation.py:144: FutureWarning: The sklearn.neighbors.unsupervised module is  deprecated in version 0.22 and will be removed in version 0.24. The corresponding classes / functions should instead be imported from sklearn.neighbors. Anything that cannot be imported from sklearn.neighbors is now part of the private API.\n",
      "  warnings.warn(message, FutureWarning)\n"
     ],
     "output_type": "stream"
    }
   ]
  },
  {
   "cell_type": "markdown",
   "metadata": {
    "id": "myQnBYBtqk1I",
    "colab_type": "text"
   },
   "source": [
    "# Load dataset and split into training / test\n",
    "\n",
    "`training.csv` is a mixture of simulated signal, real background.\n",
    "It has the following columns.\n",
    "\n",
    "`test.csv` has the following columns:"
   ]
  },
  {
   "cell_type": "code",
   "metadata": {
    "id": "koXiwCIGqk1J",
    "colab_type": "code",
    "colab": {},
    "pycharm": {
     "is_executing": false
    }
   },
   "source": [
    "train_ada = pandas.read_csv('training.csv.gz', sep=',')\n",
    "test_ada = pandas.read_csv('test.csv.gz', sep=',', index_col='id')"
   ],
   "execution_count": 3,
   "outputs": []
  },
  {
   "cell_type": "code",
   "metadata": {
    "id": "BZWf4g9_qk1M",
    "colab_type": "code",
    "outputId": "1171cf4b-9ca9-49d7-f765-d60636ac4984",
    "colab": {
     "base_uri": "https://localhost:8080/",
     "height": 70
    },
    "pycharm": {
     "is_executing": false
    }
   },
   "source": [
    "print(\"Training full sample columns:\", \", \".join(train_ada.columns), \"\\nShape:\", train_ada.shape)"
   ],
   "execution_count": 4,
   "outputs": [
    {
     "name": "stdout",
     "text": [
      "Training full sample columns: id, LifeTime, dira, FlightDistance, FlightDistanceError, IP, IPSig, VertexChi2, pt, DOCAone, DOCAtwo, DOCAthree, IP_p0p2, IP_p1p2, isolationa, isolationb, isolationc, isolationd, isolatione, isolationf, iso, CDF1, CDF2, CDF3, ISO_SumBDT, p0_IsoBDT, p1_IsoBDT, p2_IsoBDT, p0_track_Chi2Dof, p1_track_Chi2Dof, p2_track_Chi2Dof, p0_IP, p1_IP, p2_IP, p0_IPSig, p1_IPSig, p2_IPSig, p0_pt, p1_pt, p2_pt, p0_p, p1_p, p2_p, p0_eta, p1_eta, p2_eta, SPDhits, production, signal, mass, min_ANNmuon \n",
      "Shape: (67553, 51)\n"
     ],
     "output_type": "stream"
    }
   ]
  },
  {
   "cell_type": "code",
   "metadata": {
    "id": "BbdCK-Hyqk1T",
    "colab_type": "code",
    "outputId": "5b8990d4-0920-4587-e643-a1e50dc0d3ee",
    "colab": {
     "base_uri": "https://localhost:8080/",
     "height": 278
    },
    "pycharm": {
     "is_executing": false
    }
   },
   "source": [
    "print (\"Test full sample columns:\", \", \".join(test_ada.columns), \"\\nShape:\", test_ada.shape)\n",
    "test_ada.head()"
   ],
   "execution_count": 5,
   "outputs": [
    {
     "name": "stdout",
     "text": [
      "Test full sample columns: LifeTime, dira, FlightDistance, FlightDistanceError, IP, IPSig, VertexChi2, pt, DOCAone, DOCAtwo, DOCAthree, IP_p0p2, IP_p1p2, isolationa, isolationb, isolationc, isolationd, isolatione, isolationf, iso, CDF1, CDF2, CDF3, ISO_SumBDT, p0_IsoBDT, p1_IsoBDT, p2_IsoBDT, p0_track_Chi2Dof, p1_track_Chi2Dof, p2_track_Chi2Dof, p0_IP, p1_IP, p2_IP, p0_IPSig, p1_IPSig, p2_IPSig, p0_pt, p1_pt, p2_pt, p0_p, p1_p, p2_p, p0_eta, p1_eta, p2_eta, SPDhits \n",
      "Shape: (855819, 46)\n"
     ],
     "output_type": "stream"
    },
    {
     "data": {
      "text/plain": "          LifeTime      dira  FlightDistance  FlightDistanceError        IP  \\\nid                                                                            \n14711831  0.001273  0.999816        8.569642             0.310039  0.197893   \n16316387  0.000661  0.999954        7.061379             0.348772  0.067430   \n6771382   0.000889  0.999999        6.502967             0.273914  0.011020   \n686045    0.001295  0.999301        7.838184             0.325697  0.388636   \n8755882   0.001714  0.999805        7.064559             0.113440  0.154421   \n\n              IPSig  VertexChi2           pt   DOCAone   DOCAtwo  ...  \\\nid                                                                ...   \n14711831   5.183939    2.286117   687.479248  0.022301  0.050763  ...   \n16316387   6.316281    3.865824  5691.845703  0.002455  0.037633  ...   \n6771382    0.865816    1.004631  5429.225586  0.002753  0.036379  ...   \n686045    11.391245   10.345356   661.717834  0.008163  0.436003  ...   \n8755882   13.925871   12.951378  3885.417969  0.066317  0.052183  ...   \n\n                p0_pt        p1_pt        p2_pt          p0_p          p1_p  \\\nid                                                                            \n14711831   508.926514   306.629456   714.222717  30300.734375   5662.158691   \n16316387   943.130676  3287.291260  1563.593994   6160.323730  43781.566406   \n6771382   2886.055908  2216.936279   598.068359  26387.134766  15534.978516   \n686045     461.727753   357.967560  1118.084229   5451.857422  10281.403320   \n8755882   1773.747925  1643.278198   711.572205   7724.954590  12830.546875   \n\n                  p2_p    p0_eta    p1_eta    p2_eta  SPDhits  \nid                                                             \n14711831   7406.368164  4.779700  3.608334  3.029715      705  \n16316387  19728.500000  2.563915  3.280884  3.226650      907  \n6771382    6504.145020  2.903129  2.634985  3.077517      213  \n686045    23722.742188  3.160085  4.050494  3.747409      275  \n8755882    6008.145996  2.151059  2.744157  2.823017      357  \n\n[5 rows x 46 columns]",
      "text/html": "<div>\n<style scoped>\n    .dataframe tbody tr th:only-of-type {\n        vertical-align: middle;\n    }\n\n    .dataframe tbody tr th {\n        vertical-align: top;\n    }\n\n    .dataframe thead th {\n        text-align: right;\n    }\n</style>\n<table border=\"1\" class=\"dataframe\">\n  <thead>\n    <tr style=\"text-align: right;\">\n      <th></th>\n      <th>LifeTime</th>\n      <th>dira</th>\n      <th>FlightDistance</th>\n      <th>FlightDistanceError</th>\n      <th>IP</th>\n      <th>IPSig</th>\n      <th>VertexChi2</th>\n      <th>pt</th>\n      <th>DOCAone</th>\n      <th>DOCAtwo</th>\n      <th>...</th>\n      <th>p0_pt</th>\n      <th>p1_pt</th>\n      <th>p2_pt</th>\n      <th>p0_p</th>\n      <th>p1_p</th>\n      <th>p2_p</th>\n      <th>p0_eta</th>\n      <th>p1_eta</th>\n      <th>p2_eta</th>\n      <th>SPDhits</th>\n    </tr>\n    <tr>\n      <th>id</th>\n      <th></th>\n      <th></th>\n      <th></th>\n      <th></th>\n      <th></th>\n      <th></th>\n      <th></th>\n      <th></th>\n      <th></th>\n      <th></th>\n      <th></th>\n      <th></th>\n      <th></th>\n      <th></th>\n      <th></th>\n      <th></th>\n      <th></th>\n      <th></th>\n      <th></th>\n      <th></th>\n      <th></th>\n    </tr>\n  </thead>\n  <tbody>\n    <tr>\n      <th>14711831</th>\n      <td>0.001273</td>\n      <td>0.999816</td>\n      <td>8.569642</td>\n      <td>0.310039</td>\n      <td>0.197893</td>\n      <td>5.183939</td>\n      <td>2.286117</td>\n      <td>687.479248</td>\n      <td>0.022301</td>\n      <td>0.050763</td>\n      <td>...</td>\n      <td>508.926514</td>\n      <td>306.629456</td>\n      <td>714.222717</td>\n      <td>30300.734375</td>\n      <td>5662.158691</td>\n      <td>7406.368164</td>\n      <td>4.779700</td>\n      <td>3.608334</td>\n      <td>3.029715</td>\n      <td>705</td>\n    </tr>\n    <tr>\n      <th>16316387</th>\n      <td>0.000661</td>\n      <td>0.999954</td>\n      <td>7.061379</td>\n      <td>0.348772</td>\n      <td>0.067430</td>\n      <td>6.316281</td>\n      <td>3.865824</td>\n      <td>5691.845703</td>\n      <td>0.002455</td>\n      <td>0.037633</td>\n      <td>...</td>\n      <td>943.130676</td>\n      <td>3287.291260</td>\n      <td>1563.593994</td>\n      <td>6160.323730</td>\n      <td>43781.566406</td>\n      <td>19728.500000</td>\n      <td>2.563915</td>\n      <td>3.280884</td>\n      <td>3.226650</td>\n      <td>907</td>\n    </tr>\n    <tr>\n      <th>6771382</th>\n      <td>0.000889</td>\n      <td>0.999999</td>\n      <td>6.502967</td>\n      <td>0.273914</td>\n      <td>0.011020</td>\n      <td>0.865816</td>\n      <td>1.004631</td>\n      <td>5429.225586</td>\n      <td>0.002753</td>\n      <td>0.036379</td>\n      <td>...</td>\n      <td>2886.055908</td>\n      <td>2216.936279</td>\n      <td>598.068359</td>\n      <td>26387.134766</td>\n      <td>15534.978516</td>\n      <td>6504.145020</td>\n      <td>2.903129</td>\n      <td>2.634985</td>\n      <td>3.077517</td>\n      <td>213</td>\n    </tr>\n    <tr>\n      <th>686045</th>\n      <td>0.001295</td>\n      <td>0.999301</td>\n      <td>7.838184</td>\n      <td>0.325697</td>\n      <td>0.388636</td>\n      <td>11.391245</td>\n      <td>10.345356</td>\n      <td>661.717834</td>\n      <td>0.008163</td>\n      <td>0.436003</td>\n      <td>...</td>\n      <td>461.727753</td>\n      <td>357.967560</td>\n      <td>1118.084229</td>\n      <td>5451.857422</td>\n      <td>10281.403320</td>\n      <td>23722.742188</td>\n      <td>3.160085</td>\n      <td>4.050494</td>\n      <td>3.747409</td>\n      <td>275</td>\n    </tr>\n    <tr>\n      <th>8755882</th>\n      <td>0.001714</td>\n      <td>0.999805</td>\n      <td>7.064559</td>\n      <td>0.113440</td>\n      <td>0.154421</td>\n      <td>13.925871</td>\n      <td>12.951378</td>\n      <td>3885.417969</td>\n      <td>0.066317</td>\n      <td>0.052183</td>\n      <td>...</td>\n      <td>1773.747925</td>\n      <td>1643.278198</td>\n      <td>711.572205</td>\n      <td>7724.954590</td>\n      <td>12830.546875</td>\n      <td>6008.145996</td>\n      <td>2.151059</td>\n      <td>2.744157</td>\n      <td>2.823017</td>\n      <td>357</td>\n    </tr>\n  </tbody>\n</table>\n<p>5 rows × 46 columns</p>\n</div>"
     },
     "metadata": {},
     "output_type": "execute_result",
     "execution_count": 5
    }
   ]
  },
  {
   "cell_type": "markdown",
   "metadata": {
    "id": "S74xVJIWqk1W",
    "colab_type": "text"
   },
   "source": [
    "# Train simple model using part of the training sample"
   ]
  },
  {
   "cell_type": "code",
   "metadata": {
    "id": "p5O0IrVPqk1X",
    "colab_type": "code",
    "colab": {},
    "pycharm": {
     "is_executing": false
    }
   },
   "source": [
    "train, test = train_test_split(train_ada, train_size=0.7, random_state=13)"
   ],
   "execution_count": 6,
   "outputs": []
  },
  {
   "cell_type": "markdown",
   "metadata": {
    "id": "qb6HTRqzqk1a",
    "colab_type": "text"
   },
   "source": [
    "Let's chose features to train a model"
   ]
  },
  {
   "cell_type": "code",
   "metadata": {
    "id": "PXQugIAYqk1b",
    "colab_type": "code",
    "outputId": "5b9f40c4-ca66-4b41-fb33-4d7e0f106c14",
    "colab": {
     "base_uri": "https://localhost:8080/",
     "height": 54
    },
    "pycharm": {
     "is_executing": false
    }
   },
   "source": [
    "variables = list(set(train_ada.columns) - {'id', 'signal', 'mass', 'production', 'min_ANNmuon'})\n",
    "print(variables)"
   ],
   "execution_count": 7,
   "outputs": [
    {
     "name": "stdout",
     "text": [
      "['CDF3', 'VertexChi2', 'IPSig', 'p2_IsoBDT', 'pt', 'isolationd', 'isolationb', 'p0_IPSig', 'DOCAone', 'IP', 'p1_IPSig', 'p2_eta', 'p2_IPSig', 'isolatione', 'p2_pt', 'ISO_SumBDT', 'iso', 'LifeTime', 'p0_pt', 'isolationa', 'p0_track_Chi2Dof', 'FlightDistanceError', 'DOCAthree', 'p2_track_Chi2Dof', 'p2_IP', 'p1_eta', 'CDF2', 'isolationf', 'p1_pt', 'p0_IP', 'SPDhits', 'dira', 'FlightDistance', 'IP_p1p2', 'IP_p0p2', 'p1_IP', 'p0_eta', 'DOCAtwo', 'p0_IsoBDT', 'p2_p', 'p1_track_Chi2Dof', 'p0_p', 'p1_p', 'CDF1', 'p1_IsoBDT', 'isolationc']\n"
     ],
     "output_type": "stream"
    }
   ]
  },
  {
   "cell_type": "code",
   "metadata": {
    "id": "DtC6bcx_qk1d",
    "colab_type": "code",
    "outputId": "502c1e2d-eda4-441c-c991-7d581d7dc888",
    "colab": {
     "base_uri": "https://localhost:8080/",
     "height": 50
    },
    "pycharm": {
     "is_executing": false
    }
   },
   "source": [
    "from sklearn.preprocessing import StandardScaler\n",
    "\n",
    "\n",
    "class ClassifierWithScaler:\n",
    "    \n",
    "    def __init__(self, classifier):\n",
    "        self.classifier = classifier\n",
    "        self.scaler = StandardScaler()\n",
    "    \n",
    "    def fit(self, inputs, outputs, sample_weight=None):\n",
    "        inputs = self.scaler.fit_transform(inputs)\n",
    "        return self.classifier.fit(inputs, outputs, sample_weight)\n",
    "    \n",
    "    def predict(self, inputs):\n",
    "        inputs = self.scaler.transform(inputs)\n",
    "        return self.classifier.predict(inputs)\n",
    "    \n",
    "    def predict_proba(self, inputs):\n",
    "        inputs = self.scaler.transform(inputs)\n",
    "        return self.classifier.predict_proba(inputs)"
   ],
   "execution_count": 8,
   "outputs": []
  },
  {
   "cell_type": "code",
   "execution_count": 13,
   "outputs": [],
   "source": [
    "from sklearn.ensemble import AdaBoostClassifier, ExtraTreesClassifier\n",
    "\n",
    "clf = ClassifierWithScaler(\n",
    "    # The original creator suggests grid-searching for tuning the model.\n",
    "    # Credit to github.com/log0/ (Repo: higgs_boson)\n",
    "    AdaBoostClassifier(\n",
    "        n_estimators=50,  # Original Value: 20\n",
    "        learning_rate=0.75,\n",
    "        base_estimator=ExtraTreesClassifier(\n",
    "            n_estimators=400,\n",
    "            max_features=40,  # Original Value: 30 (but they only had 30 features)\n",
    "            # The increase in the number of features did not change the AUC but it could have caused overfitting which \n",
    "            # would have increased the KS metric, causing the submission to be rejected.\n",
    "            max_depth=12,\n",
    "            min_samples_leaf=100,\n",
    "            min_samples_split=100,\n",
    "            # Both above features seem to be easily tunable\n",
    "            n_jobs=-1\n",
    "        )\n",
    "    )\n",
    ")"
   ],
   "metadata": {
    "collapsed": false,
    "pycharm": {
     "name": "#%%\n",
     "is_executing": false
    }
   }
  },
  {
   "cell_type": "code",
   "execution_count": null,
   "outputs": [],
   "source": [
    "%time clf.fit(train[variables], train['signal'])"
   ],
   "metadata": {
    "collapsed": false,
    "pycharm": {
     "name": "#%%\n",
     "is_executing": true
    }
   }
  },
  {
   "cell_type": "markdown",
   "metadata": {
    "id": "WJPA7ljuqk1j",
    "colab_type": "text"
   },
   "source": [
    "# Check model quality on a half of the training sample"
   ]
  },
  {
   "cell_type": "code",
   "metadata": {
    "id": "qeh92w0oqk1j",
    "colab_type": "code",
    "colab": {},
    "pycharm": {
     "is_executing": true
    }
   },
   "source": [
    "from matplotlib import pyplot as plt\n",
    "import numpy\n",
    "\n",
    "def plot_metrics(y_true, y_pred):\n",
    "    fpr, tpr, thresholds = roc_curve(y_true, y_pred)\n",
    "    roc_auc = roc_auc_score(y_true, y_pred)\n",
    "    plt.plot(fpr, tpr, label='ROC AUC=%f' % roc_auc)\n",
    "    plt.xlabel(\"FPR\")\n",
    "    plt.ylabel(\"TPR\")\n",
    "    plt.legend()\n",
    "    plt.title(\"ROC Curve\")\n",
    "    plt.show()"
   ],
   "execution_count": null,
   "outputs": []
  },
  {
   "cell_type": "code",
   "metadata": {
    "id": "hnvQY7Rxqk1m",
    "colab_type": "code",
    "outputId": "4a12ccad-c116-45db-c43b-a17995317e70",
    "colab": {
     "base_uri": "https://localhost:8080/",
     "height": 312
    },
    "pycharm": {
     "is_executing": true
    }
   },
   "source": [
    "y_pred = clf.predict_proba(test[variables])[:, 1]\n",
    "plot_metrics(test['signal'], y_pred)"
   ],
   "execution_count": null,
   "outputs": []
  },
  {
   "cell_type": "markdown",
   "metadata": {
    "id": "pi3eKWeWqk1o",
    "colab_type": "text"
   },
   "source": [
    "ROC AUC is just a part of the solution, you also have to make sure that\n",
    "\n",
    "- the classifier output is not correlated with the mass\n",
    "- classifier performs similarly on MC and real data of the normalization channel"
   ]
  },
  {
   "cell_type": "markdown",
   "metadata": {
    "id": "Ur5BGg-Fqk1r",
    "colab_type": "text"
   },
   "source": [
    "### Mass correlation check"
   ]
  },
  {
   "cell_type": "code",
   "metadata": {
    "id": "Uekb3hp4qk1s",
    "colab_type": "code",
    "colab": {},
    "pycharm": {
     "is_executing": false
    }
   },
   "source": [
    "# NOTE: The names don't match the ones in repo's release section. You'd have to rename them or decompress the downloaded files.\n",
    "df_corr_check = pandas.read_csv(\"check_correlation.csv.gz\")"
   ],
   "execution_count": 13,
   "outputs": []
  },
  {
   "cell_type": "code",
   "metadata": {
    "id": "8G-oe2QMqk1z",
    "colab_type": "code",
    "outputId": "671e3a6a-913b-4e55-c555-53abf3a562d5",
    "colab": {
     "base_uri": "https://localhost:8080/",
     "height": 34
    },
    "pycharm": {
     "is_executing": false
    }
   },
   "source": [
    "df_corr_check.shape"
   ],
   "execution_count": 14,
   "outputs": [
    {
     "data": {
      "text/plain": "(5514, 48)"
     },
     "metadata": {},
     "output_type": "execute_result",
     "execution_count": 14
    }
   ]
  },
  {
   "cell_type": "code",
   "metadata": {
    "id": "CCN6NxTuqk14",
    "colab_type": "code",
    "colab": {},
    "pycharm": {
     "is_executing": false
    }
   },
   "source": [
    "y_pred = clf.predict(df_corr_check[variables])"
   ],
   "execution_count": 15,
   "outputs": []
  },
  {
   "cell_type": "code",
   "metadata": {
    "id": "mQzHWQkyqk2K",
    "colab_type": "code",
    "colab": {},
    "pycharm": {
     "is_executing": false
    }
   },
   "source": [
    "def check_arrays(*arrays):\n",
    "    \"\"\"\n",
    "    Left for consistency, version of `sklearn.validation.check_arrays`\n",
    "    :param list[iterable] arrays: arrays with same length of first dimension.\n",
    "    \"\"\"\n",
    "    assert len(arrays) > 0, 'The number of array must be greater than zero'\n",
    "    checked_arrays = []\n",
    "    shapes = []\n",
    "    for arr in arrays:\n",
    "        if arr is not None:\n",
    "            checked_arrays.append(numpy.array(arr))\n",
    "            shapes.append(checked_arrays[-1].shape[0])\n",
    "        else:\n",
    "            checked_arrays.append(None)\n",
    "    assert numpy.sum(numpy.array(shapes) == shapes[0]) == len(shapes), 'Different shapes of the arrays {}'.format(\n",
    "        shapes)\n",
    "    return checked_arrays"
   ],
   "execution_count": 16,
   "outputs": []
  },
  {
   "cell_type": "code",
   "metadata": {
    "id": "uDDIWh8Oqk2v",
    "colab_type": "code",
    "colab": {},
    "pycharm": {
     "is_executing": false
    }
   },
   "source": [
    "from collections import OrderedDict\n",
    "\n",
    "\n",
    "def get_efficiencies(prediction, spectator, sample_weight=None, bins_number=20,\n",
    "                     thresholds=None, errors=False, ignored_sideband=0.0):\n",
    "    \"\"\"\n",
    "    Construct efficiency function dependent on spectator for each threshold\n",
    "    Different score functions available: Efficiency, Precision, Recall, F1Score,\n",
    "    and other things from sklearn.metrics\n",
    "    :param prediction: list of probabilities\n",
    "    :param spectator: list of spectator's values\n",
    "    :param bins_number: int, count of bins for plot\n",
    "    :param thresholds: list of prediction's threshold\n",
    "        (default=prediction's cuts for which efficiency will be [0.2, 0.4, 0.5, 0.6, 0.8])\n",
    "    :return:\n",
    "        if errors=False\n",
    "        OrderedDict threshold -> (x_values, y_values)\n",
    "        if errors=True\n",
    "        OrderedDict threshold -> (x_values, y_values, y_err, x_err)\n",
    "        All the parts: x_values, y_values, y_err, x_err are numpy.arrays of the same length.\n",
    "    \"\"\"\n",
    "    prediction, spectator, sample_weight = \\\n",
    "        check_arrays(prediction, spectator, sample_weight)\n",
    "\n",
    "    spectator_min, spectator_max = weighted_quantile(spectator, [ignored_sideband, (1. - ignored_sideband)])\n",
    "    mask = (spectator >= spectator_min) & (spectator <= spectator_max)\n",
    "    spectator = spectator[mask]\n",
    "    prediction = prediction[mask]\n",
    "    bins_number = min(bins_number, len(prediction))\n",
    "    sample_weight = sample_weight if sample_weight is None else numpy.array(sample_weight)[mask]\n",
    "\n",
    "    if thresholds is None:\n",
    "        thresholds = [weighted_quantile(prediction, quantiles=1 - eff, sample_weight=sample_weight)\n",
    "                      for eff in [0.2, 0.4, 0.5, 0.6, 0.8]]\n",
    "\n",
    "    binner = Binner(spectator, bins_number=bins_number)\n",
    "    if sample_weight is None:\n",
    "        sample_weight = numpy.ones(len(prediction))\n",
    "    bins_data = binner.split_into_bins(spectator, prediction, sample_weight)\n",
    "\n",
    "    bin_edges = numpy.array([spectator_min] + list(binner.limits) + [spectator_max])\n",
    "    xerr = numpy.diff(bin_edges) / 2.\n",
    "    result = OrderedDict()\n",
    "    for threshold in thresholds:\n",
    "        x_values = []\n",
    "        y_values = []\n",
    "        N_in_bin = []\n",
    "        for num, (masses, probabilities, weights) in enumerate(bins_data):\n",
    "            y_values.append(numpy.average(probabilities > threshold, weights=weights))\n",
    "            N_in_bin.append(numpy.sum(weights))\n",
    "            if errors:\n",
    "                x_values.append((bin_edges[num + 1] + bin_edges[num]) / 2.)\n",
    "            else:\n",
    "                x_values.append(numpy.mean(masses))\n",
    "\n",
    "        x_values, y_values, N_in_bin = check_arrays(x_values, y_values, N_in_bin)\n",
    "        if errors:\n",
    "            result[threshold] = (x_values, y_values, numpy.sqrt(y_values * (1 - y_values) / N_in_bin), xerr)\n",
    "        else:\n",
    "            result[threshold] = (x_values, y_values)\n",
    "    return result"
   ],
   "execution_count": 17,
   "outputs": []
  },
  {
   "cell_type": "code",
   "metadata": {
    "id": "E7A6n3XIqk24",
    "colab_type": "code",
    "colab": {},
    "pycharm": {
     "is_executing": false
    }
   },
   "source": [
    "def weighted_quantile(array, quantiles, sample_weight=None, array_sorted=False, old_style=False):\n",
    "    \"\"\"Computing quantiles of array. Unlike the numpy.percentile, this function supports weights,\n",
    "    but it is inefficient and performs complete sorting.\n",
    "    :param array: distribution, array of shape [n_samples]\n",
    "    :param quantiles: floats from range [0, 1] with quantiles of shape [n_quantiles]\n",
    "    :param sample_weight: optional weights of samples, array of shape [n_samples]\n",
    "    :param array_sorted: if True, the sorting step will be skipped\n",
    "    :param old_style: if True, will correct output to be consistent with numpy.percentile.\n",
    "    :return: array of shape [n_quantiles]\n",
    "    Example:\n",
    "    >>> weighted_quantile([1, 2, 3, 4, 5], [0.5])\n",
    "    Out: array([ 3.])\n",
    "    >>> weighted_quantile([1, 2, 3, 4, 5], [0.5], sample_weight=[3, 1, 1, 1, 1])\n",
    "    Out: array([ 2.])\n",
    "    \"\"\"\n",
    "    array = numpy.array(array)\n",
    "    quantiles = numpy.array(quantiles)\n",
    "    sample_weight = check_sample_weight(array, sample_weight)\n",
    "    assert numpy.all(quantiles >= 0) and numpy.all(quantiles <= 1), 'Percentiles should be in [0, 1]'\n",
    "\n",
    "    if not array_sorted:\n",
    "        array, sample_weight = reorder_by_first(array, sample_weight)\n",
    "\n",
    "    weighted_quantiles = numpy.cumsum(sample_weight) - 0.5 * sample_weight\n",
    "    if old_style:\n",
    "        # To be convenient with numpy.percentile\n",
    "        weighted_quantiles -= weighted_quantiles[0]\n",
    "        weighted_quantiles /= weighted_quantiles[-1]\n",
    "    else:\n",
    "        weighted_quantiles /= numpy.sum(sample_weight)\n",
    "    return numpy.interp(quantiles, weighted_quantiles, array)\n"
   ],
   "execution_count": 18,
   "outputs": []
  },
  {
   "cell_type": "code",
   "metadata": {
    "id": "4mnydr_bqk2_",
    "colab_type": "code",
    "colab": {},
    "pycharm": {
     "is_executing": false
    }
   },
   "source": [
    "def check_sample_weight(y_true, sample_weight):\n",
    "    \"\"\"Checks the weights, if None, returns array.\n",
    "    :param y_true: labels (or any array of length [n_samples])\n",
    "    :param sample_weight: None or array of length [n_samples]\n",
    "    :return: numpy.array of shape [n_samples]\n",
    "    \"\"\"\n",
    "    if sample_weight is None:\n",
    "        return numpy.ones(len(y_true), dtype=numpy.float)\n",
    "    else:\n",
    "        sample_weight = numpy.array(sample_weight, dtype=numpy.float)\n",
    "        assert len(y_true) == len(sample_weight), \\\n",
    "            \"The length of weights is different: not {0}, but {1}\".format(len(y_true), len(sample_weight))\n",
    "        return sample_weight\n",
    "\n"
   ],
   "execution_count": 19,
   "outputs": []
  },
  {
   "cell_type": "code",
   "metadata": {
    "id": "ijBk33Lrqk3H",
    "colab_type": "code",
    "colab": {},
    "pycharm": {
     "is_executing": false
    }
   },
   "source": [
    "def reorder_by_first(*arrays):\n",
    "    \"\"\"\n",
    "    Applies the same permutation to all passed arrays,\n",
    "    permutation sorts the first passed array\n",
    "    \"\"\"\n",
    "    arrays = check_arrays(*arrays)\n",
    "    order = numpy.argsort(arrays[0])\n",
    "    return [arr[order] for arr in arrays]\n",
    "\n",
    "class Binner(object):\n",
    "    def __init__(self, values, bins_number):\n",
    "        \"\"\"\n",
    "        Binner is a class that helps to split the values into several bins.\n",
    "        Initially an array of values is given, which is then splitted into 'bins_number' equal parts,\n",
    "        and thus we are computing limits (boundaries of bins).\n",
    "        \"\"\"\n",
    "        percentiles = [i * 100.0 / bins_number for i in range(1, bins_number)]\n",
    "        self.limits = numpy.percentile(values, percentiles)\n",
    "\n",
    "    def get_bins(self, values):\n",
    "        \"\"\"Given the values of feature, compute the index of bin\n",
    "        :param values: array of shape [n_samples]\n",
    "        :return: array of shape [n_samples]\n",
    "        \"\"\"\n",
    "        return numpy.searchsorted(self.limits, values)\n",
    "\n",
    "    def set_limits(self, limits):\n",
    "        \"\"\"Change the thresholds inside bins.\"\"\"\n",
    "        self.limits = limits\n",
    "\n",
    "    @property\n",
    "    def bins_number(self):\n",
    "        \"\"\":return: number of bins\"\"\"\n",
    "        return len(self.limits) + 1\n",
    "\n",
    "    def split_into_bins(self, *arrays):\n",
    "        \"\"\"\n",
    "        :param arrays: data to be splitted, the first array corresponds\n",
    "        :return: sequence of length [n_bins] with values corresponding to each bin.\n",
    "        \"\"\"\n",
    "        values = arrays[0]\n",
    "        for array in arrays:\n",
    "            assert len(array) == len(values), \"passed arrays have different length\"\n",
    "        bins = self.get_bins(values)\n",
    "        result = []\n",
    "        for bin in range(len(self.limits) + 1):\n",
    "            indices = bins == bin\n",
    "            result.append([numpy.array(array)[indices] for array in arrays])\n",
    "        return result\n"
   ],
   "execution_count": 20,
   "outputs": []
  },
  {
   "cell_type": "code",
   "metadata": {
    "id": "03pMMfxfqk3L",
    "colab_type": "code",
    "colab": {},
    "pycharm": {
     "is_executing": false
    }
   },
   "source": [
    "eff = get_efficiencies(y_pred, df_corr_check.mass, thresholds=[0.5]) #, thresholds=[0.2, 0.4, 0.5, 0.6, 0.8])"
   ],
   "execution_count": 21,
   "outputs": []
  },
  {
   "cell_type": "code",
   "metadata": {
    "id": "V9n2PLBrqk3P",
    "colab_type": "code",
    "outputId": "6605f530-ae94-47b5-b167-0fe7baa16a29",
    "colab": {
     "base_uri": "https://localhost:8080/",
     "height": 34
    },
    "pycharm": {
     "is_executing": false
    }
   },
   "source": [
    "eff.keys()"
   ],
   "execution_count": 22,
   "outputs": [
    {
     "data": {
      "text/plain": "odict_keys([0.5])"
     },
     "metadata": {},
     "output_type": "execute_result",
     "execution_count": 22
    }
   ]
  },
  {
   "cell_type": "code",
   "metadata": {
    "id": "NudU_5_9qk3R",
    "colab_type": "code",
    "outputId": "a637821e-521e-48c4-e519-78c1108c3334",
    "colab": {
     "base_uri": "https://localhost:8080/",
     "height": 279
    },
    "pycharm": {
     "is_executing": false
    }
   },
   "source": [
    "from matplotlib import pyplot\n",
    "\n",
    "for label_name, eff_data in eff.items():\n",
    "    pyplot.plot(eff_data[0], eff_data[1], label=\"global eff  %.1f\" % label_name)\n",
    "pyplot.xlabel('mass')\n",
    "pyplot.ylabel('Efficiency')\n",
    "pyplot.legend()\n",
    "pyplot.show()"
   ],
   "execution_count": 23,
   "outputs": [
    {
     "data": {
      "text/plain": "<Figure size 432x288 with 1 Axes>",
      "image/png": "[encoded data removed]"
     },
     "metadata": {
      "needs_background": "light"
     },
     "output_type": "display_data"
    }
   ]
  },
  {
   "cell_type": "code",
   "metadata": {
    "id": "0AmXUdDDqk3U",
    "colab_type": "code",
    "colab": {},
    "pycharm": {
     "is_executing": false
    }
   },
   "source": [
    "from utils import check_correlation"
   ],
   "execution_count": 24,
   "outputs": []
  },
  {
   "cell_type": "code",
   "metadata": {
    "id": "jgCrM_Z7qk3X",
    "colab_type": "code",
    "outputId": "49a4723b-f13c-43d3-f9fc-9c5bec163b73",
    "colab": {
     "base_uri": "https://localhost:8080/",
     "height": 302
    },
    "pycharm": {
     "is_executing": false
    }
   },
   "source": [
    "corr_metric = check_correlation(y_pred, df_corr_check['mass'])\n",
    "print (corr_metric)"
   ],
   "execution_count": 25,
   "outputs": [
    {
     "name": "stdout",
     "text": [
      "0.00017934563021015695\n"
     ],
     "output_type": "stream"
    },
    {
     "name": "stderr",
     "text": [
      "/home/mohammad/PycharmProjects/Large Hadron Collider Challenges/venv/lib/python3.7/site-packages/hep_ml/commonutils.py:257: FutureWarning: \n",
      ".ix is deprecated. Please use\n",
      ".loc for label based indexing or\n",
      ".iloc for positional indexing\n",
      "\n",
      "See the documentation here:\n",
      "http://pandas.pydata.org/pandas-docs/stable/user_guide/indexing.html#ix-indexer-is-deprecated\n",
      "  return X.ix[:, features]\n",
      "/home/mohammad/PycharmProjects/Large Hadron Collider Challenges/venv/lib/python3.7/site-packages/pandas/core/indexing.py:822: FutureWarning: \n",
      ".ix is deprecated. Please use\n",
      ".loc for label based indexing or\n",
      ".iloc for positional indexing\n",
      "\n",
      "See the documentation here:\n",
      "http://pandas.pydata.org/pandas-docs/stable/user_guide/indexing.html#ix-indexer-is-deprecated\n",
      "  retval = getattr(retval, self.name)._getitem_axis(key, axis=i)\n"
     ],
     "output_type": "stream"
    }
   ]
  },
  {
   "cell_type": "markdown",
   "metadata": {
    "id": "t4autRE3qk3Z",
    "colab_type": "text"
   },
   "source": [
    "## MC vs Real difference"
   ]
  },
  {
   "cell_type": "code",
   "metadata": {
    "id": "-HyxvpSHqk3Z",
    "colab_type": "code",
    "colab": {},
    "pycharm": {
     "is_executing": false
    }
   },
   "source": [
    "# NOTE: The names don't match the ones in repo's release section. You'd have to rename them or decompress the downloaded files.\n",
    "df_agreement = pandas.read_csv('check_agreement.csv.gz')"
   ],
   "execution_count": 26,
   "outputs": []
  },
  {
   "cell_type": "code",
   "metadata": {
    "id": "EaoeUX0gqk3b",
    "colab_type": "code",
    "colab": {},
    "pycharm": {
     "is_executing": false
    }
   },
   "source": [
    "from sklearn.utils.validation import column_or_1d\n",
    "\n",
    "def get_ks_metric(df_agree, df_test):\n",
    "    sig_ind = df_agree[df_agree['signal'] == 1].index\n",
    "    bck_ind = df_agree[df_agree['signal'] == 0].index\n",
    "\n",
    "    mc_prob = numpy.array(df_test.loc[sig_ind]['prediction'])\n",
    "    mc_weight = numpy.array(df_agree.loc[sig_ind]['weight'])\n",
    "    data_prob = numpy.array(df_test.loc[bck_ind]['prediction'])\n",
    "    data_weight = numpy.array(df_agree.loc[bck_ind]['weight'])\n",
    "    val, agreement_metric = check_agreement_ks_sample_weighted(data_prob, mc_prob, data_weight, mc_weight)\n",
    "    return agreement_metric['ks']"
   ],
   "execution_count": 27,
   "outputs": []
  },
  {
   "cell_type": "code",
   "metadata": {
    "id": "-IYp9JZpqk3d",
    "colab_type": "code",
    "colab": {},
    "pycharm": {
     "is_executing": false
    }
   },
   "source": [
    "def check_agreement_ks_sample_weighted (data_prediction, mc_prediction, weights_data, weights_mc):\n",
    "    data_prediction, weights_data = map(column_or_1d, [data_prediction, weights_data])\n",
    "    mc_prediction, weights_mc = map(column_or_1d, [mc_prediction, weights_mc])\n",
    "\n",
    "    assert numpy.all(data_prediction >= 0.) and numpy.all(data_prediction <= 1.), 'error in prediction'\n",
    "    assert numpy.all(mc_prediction >= 0.) and numpy.all(mc_prediction <= 1.), 'error in prediction'\n",
    "\n",
    "    weights_data = weights_data / numpy.sum(weights_data)\n",
    "    weights_mc = weights_mc / numpy.sum(weights_mc)\n",
    "\n",
    "    data_neg = data_prediction[weights_data < 0]\n",
    "    weights_neg = -weights_data[weights_data < 0]\n",
    "    mc_prediction = numpy.concatenate((mc_prediction, data_neg))\n",
    "    weights_mc = numpy.concatenate((weights_mc, weights_neg))\n",
    "    data_prediction = data_prediction[weights_data >= 0]\n",
    "    weights_data = weights_data[weights_data >= 0]\n",
    "\n",
    "    assert numpy.all(weights_data >= 0) and numpy.all(weights_mc >= 0)\n",
    "    assert numpy.allclose(weights_data.sum(), weights_mc.sum())\n",
    "\n",
    "    weights_data /= numpy.sum(weights_data)\n",
    "    weights_mc /= numpy.sum(weights_mc)\n",
    "\n",
    "    fpr, tpr, _ = roc_curve_splitted(data_prediction, mc_prediction, weights_data, weights_mc)\n",
    "\n",
    "    Dnm = numpy.max(numpy.abs(fpr - tpr))\n",
    "    Dnm_part = numpy.max(numpy.abs(fpr - tpr)[fpr + tpr < 1])\n",
    "\n",
    "    result = {'ks': Dnm, 'ks_part': Dnm_part}\n",
    "    return Dnm_part < 0.03, result"
   ],
   "execution_count": 28,
   "outputs": []
  },
  {
   "cell_type": "code",
   "metadata": {
    "id": "gfFXY_Z2qk3h",
    "colab_type": "code",
    "outputId": "05782c88-ddce-41f7-ef21-45f2364fbe02",
    "colab": {
     "base_uri": "https://localhost:8080/",
     "height": 185
    },
    "pycharm": {
     "is_executing": false
    }
   },
   "source": [
    "df_agreement.columns"
   ],
   "execution_count": 29,
   "outputs": [
    {
     "data": {
      "text/plain": "Index(['id', 'LifeTime', 'dira', 'FlightDistance', 'FlightDistanceError', 'IP',\n       'IPSig', 'VertexChi2', 'pt', 'DOCAone', 'DOCAtwo', 'DOCAthree',\n       'IP_p0p2', 'IP_p1p2', 'isolationa', 'isolationb', 'isolationc',\n       'isolationd', 'isolatione', 'isolationf', 'iso', 'CDF1', 'CDF2', 'CDF3',\n       'ISO_SumBDT', 'p0_IsoBDT', 'p1_IsoBDT', 'p2_IsoBDT', 'p0_track_Chi2Dof',\n       'p1_track_Chi2Dof', 'p2_track_Chi2Dof', 'p0_IP', 'p1_IP', 'p2_IP',\n       'p0_IPSig', 'p1_IPSig', 'p2_IPSig', 'p0_pt', 'p1_pt', 'p2_pt', 'p0_p',\n       'p1_p', 'p2_p', 'p0_eta', 'p1_eta', 'p2_eta', 'SPDhits', 'signal',\n       'weight'],\n      dtype='object')"
     },
     "metadata": {},
     "output_type": "execute_result",
     "execution_count": 29
    }
   ]
  },
  {
   "cell_type": "code",
   "metadata": {
    "id": "imuoPJ0Uqk3l",
    "colab_type": "code",
    "outputId": "1a7e36f9-e2aa-448b-f47f-b836a60504db",
    "colab": {
     "base_uri": "https://localhost:8080/",
     "height": 215
    },
    "pycharm": {
     "is_executing": false
    }
   },
   "source": [
    "df_agreement[variables].head()"
   ],
   "execution_count": 30,
   "outputs": [
    {
     "data": {
      "text/plain": "   isolationf      dira   DOCAone  isolationb     p0_IP        p0_pt  \\\n0         1.0  0.999964  0.082219           6  0.483199  1438.064697   \n1         1.0  0.999818  0.007983           6  0.712242   316.791351   \n2         1.0  0.999847  0.045085           2  0.381544  1887.477905   \n3         0.0  0.999998  0.055115           4  0.564650   975.041687   \n4         0.0  0.999896  0.015587           1  0.373736  6035.000977   \n\n       CDF3  p0_IsoBDT      CDF2  p0_track_Chi2Dof  ...    p2_eta  \\\n0  0.179091  -0.019306  0.492269          0.606178  ...  3.594246   \n1  0.584701  -0.278330  0.605835          1.900118  ...  2.779366   \n2  0.295038  -0.115879  0.682607          0.660675  ...  3.081832   \n3  0.533615  -0.208248  0.533615          0.770563  ...  2.918251   \n4  0.926410  -0.328938  0.926410          1.080559  ...  2.310401   \n\n   FlightDistanceError   p1_IPSig   p2_IPSig        IP  p1_IsoBDT  isolatione  \\\n0             0.229196  10.732132   8.853514  0.058117  -0.089797         1.0   \n1             0.517488  16.435398   7.737038  0.189683  -0.186370         1.0   \n2             0.219291  20.686119  44.521961  0.231709  -0.131069         0.0   \n3             0.167886   7.873435   9.630725  0.011298  -0.177802         0.0   \n4             0.284975  18.738485   7.389726  0.160511  -0.443564         0.0   \n\n   isolationd  VertexChi2  p2_track_Chi2Dof  \n0         2.0    7.953543          1.487057  \n1         1.0    7.141451          1.336784  \n2         0.0    4.778880          0.798658  \n3         0.0    5.528002          0.938619  \n4         0.0    8.670339          1.123868  \n\n[5 rows x 46 columns]",
      "text/html": "<div>\n<style scoped>\n    .dataframe tbody tr th:only-of-type {\n        vertical-align: middle;\n    }\n\n    .dataframe tbody tr th {\n        vertical-align: top;\n    }\n\n    .dataframe thead th {\n        text-align: right;\n    }\n</style>\n<table border=\"1\" class=\"dataframe\">\n  <thead>\n    <tr style=\"text-align: right;\">\n      <th></th>\n      <th>isolationf</th>\n      <th>dira</th>\n      <th>DOCAone</th>\n      <th>isolationb</th>\n      <th>p0_IP</th>\n      <th>p0_pt</th>\n      <th>CDF3</th>\n      <th>p0_IsoBDT</th>\n      <th>CDF2</th>\n      <th>p0_track_Chi2Dof</th>\n      <th>...</th>\n      <th>p2_eta</th>\n      <th>FlightDistanceError</th>\n      <th>p1_IPSig</th>\n      <th>p2_IPSig</th>\n      <th>IP</th>\n      <th>p1_IsoBDT</th>\n      <th>isolatione</th>\n      <th>isolationd</th>\n      <th>VertexChi2</th>\n      <th>p2_track_Chi2Dof</th>\n    </tr>\n  </thead>\n  <tbody>\n    <tr>\n      <th>0</th>\n      <td>1.0</td>\n      <td>0.999964</td>\n      <td>0.082219</td>\n      <td>6</td>\n      <td>0.483199</td>\n      <td>1438.064697</td>\n      <td>0.179091</td>\n      <td>-0.019306</td>\n      <td>0.492269</td>\n      <td>0.606178</td>\n      <td>...</td>\n      <td>3.594246</td>\n      <td>0.229196</td>\n      <td>10.732132</td>\n      <td>8.853514</td>\n      <td>0.058117</td>\n      <td>-0.089797</td>\n      <td>1.0</td>\n      <td>2.0</td>\n      <td>7.953543</td>\n      <td>1.487057</td>\n    </tr>\n    <tr>\n      <th>1</th>\n      <td>1.0</td>\n      <td>0.999818</td>\n      <td>0.007983</td>\n      <td>6</td>\n      <td>0.712242</td>\n      <td>316.791351</td>\n      <td>0.584701</td>\n      <td>-0.278330</td>\n      <td>0.605835</td>\n      <td>1.900118</td>\n      <td>...</td>\n      <td>2.779366</td>\n      <td>0.517488</td>\n      <td>16.435398</td>\n      <td>7.737038</td>\n      <td>0.189683</td>\n      <td>-0.186370</td>\n      <td>1.0</td>\n      <td>1.0</td>\n      <td>7.141451</td>\n      <td>1.336784</td>\n    </tr>\n    <tr>\n      <th>2</th>\n      <td>1.0</td>\n      <td>0.999847</td>\n      <td>0.045085</td>\n      <td>2</td>\n      <td>0.381544</td>\n      <td>1887.477905</td>\n      <td>0.295038</td>\n      <td>-0.115879</td>\n      <td>0.682607</td>\n      <td>0.660675</td>\n      <td>...</td>\n      <td>3.081832</td>\n      <td>0.219291</td>\n      <td>20.686119</td>\n      <td>44.521961</td>\n      <td>0.231709</td>\n      <td>-0.131069</td>\n      <td>0.0</td>\n      <td>0.0</td>\n      <td>4.778880</td>\n      <td>0.798658</td>\n    </tr>\n    <tr>\n      <th>3</th>\n      <td>0.0</td>\n      <td>0.999998</td>\n      <td>0.055115</td>\n      <td>4</td>\n      <td>0.564650</td>\n      <td>975.041687</td>\n      <td>0.533615</td>\n      <td>-0.208248</td>\n      <td>0.533615</td>\n      <td>0.770563</td>\n      <td>...</td>\n      <td>2.918251</td>\n      <td>0.167886</td>\n      <td>7.873435</td>\n      <td>9.630725</td>\n      <td>0.011298</td>\n      <td>-0.177802</td>\n      <td>0.0</td>\n      <td>0.0</td>\n      <td>5.528002</td>\n      <td>0.938619</td>\n    </tr>\n    <tr>\n      <th>4</th>\n      <td>0.0</td>\n      <td>0.999896</td>\n      <td>0.015587</td>\n      <td>1</td>\n      <td>0.373736</td>\n      <td>6035.000977</td>\n      <td>0.926410</td>\n      <td>-0.328938</td>\n      <td>0.926410</td>\n      <td>1.080559</td>\n      <td>...</td>\n      <td>2.310401</td>\n      <td>0.284975</td>\n      <td>18.738485</td>\n      <td>7.389726</td>\n      <td>0.160511</td>\n      <td>-0.443564</td>\n      <td>0.0</td>\n      <td>0.0</td>\n      <td>8.670339</td>\n      <td>1.123868</td>\n    </tr>\n  </tbody>\n</table>\n<p>5 rows × 46 columns</p>\n</div>"
     },
     "metadata": {},
     "output_type": "execute_result",
     "execution_count": 30
    }
   ]
  },
  {
   "cell_type": "code",
   "metadata": {
    "id": "jxEjNVhnqk3o",
    "colab_type": "code",
    "colab": {},
    "pycharm": {
     "is_executing": false
    }
   },
   "source": [
    "def compute_ks(data_prediction, mc_prediction, weights_data, weights_mc):\n",
    "    \"\"\"\n",
    "    Compute Kolmogorov-Smirnov (ks) distance between real data predictions cdf and Monte Carlo one.\n",
    "    :param data_prediction: array-like, real data predictions\n",
    "    :param mc_prediction: array-like, Monte Carlo data predictions\n",
    "    :param weights_data: array-like, real data weights\n",
    "    :param weights_mc: array-like, Monte Carlo weights\n",
    "    :return: ks value\n",
    "    \"\"\"\n",
    "    assert len(data_prediction) == len(weights_data), 'Data length and weight one must be the same'\n",
    "    assert len(mc_prediction) == len(weights_mc), 'Data length and weight one must be the same'\n",
    "\n",
    "    data_prediction, mc_prediction = numpy.array(data_prediction), numpy.array(mc_prediction)\n",
    "    weights_data, weights_mc = numpy.array(weights_data), numpy.array(weights_mc)\n",
    "\n",
    "    assert numpy.all(data_prediction >= 0.) and numpy.all(data_prediction <= 1.), 'Data predictions are out of range [0, 1]'\n",
    "    assert numpy.all(mc_prediction >= 0.) and numpy.all(mc_prediction <= 1.), 'MC predictions are out of range [0, 1]'\n",
    "\n",
    "    weights_data /= numpy.sum(weights_data)\n",
    "    weights_mc /= numpy.sum(weights_mc)\n",
    "\n",
    "    fpr, tpr = __roc_curve_splitted(data_prediction, mc_prediction, weights_data, weights_mc)\n",
    "\n",
    "    Dnm = numpy.max(numpy.abs(fpr - tpr))\n",
    "    return Dnm"
   ],
   "execution_count": 31,
   "outputs": []
  },
  {
   "cell_type": "code",
   "metadata": {
    "id": "N5Ioxyj9qk3q",
    "colab_type": "code",
    "colab": {},
    "pycharm": {
     "is_executing": false
    }
   },
   "source": [
    "from sklearn.metrics import roc_curve\n",
    "\n",
    "def __roc_curve_splitted(data_zero, data_one, sample_weights_zero, sample_weights_one):\n",
    "    \"\"\"\n",
    "    Compute roc curve\n",
    "    :param data_zero: 0-labeled data\n",
    "    :param data_one:  1-labeled data\n",
    "    :param sample_weights_zero: weights for 0-labeled data\n",
    "    :param sample_weights_one:  weights for 1-labeled data\n",
    "    :return: roc curve\n",
    "    \"\"\"\n",
    "    labels = [0] * len(data_zero) + [1] * len(data_one)\n",
    "    weights = numpy.concatenate([sample_weights_zero, sample_weights_one])\n",
    "    data_all = numpy.concatenate([data_zero, data_one])\n",
    "    fpr, tpr, _ = roc_curve(labels, data_all, sample_weight=weights)\n",
    "    return fpr, tpr"
   ],
   "execution_count": 32,
   "outputs": []
  },
  {
   "cell_type": "code",
   "metadata": {
    "id": "TZ_9d-Xiqk3r",
    "colab_type": "code",
    "outputId": "cd0089f6-fb82-4c17-8004-2df0fc694ec8",
    "colab": {
     "base_uri": "https://localhost:8080/",
     "height": 34
    },
    "pycharm": {
     "is_executing": false
    }
   },
   "source": [
    "agreement_probs = clf.predict_proba(df_agreement[variables])[:, 1]\n",
    "\n",
    "ks = compute_ks(\n",
    "    agreement_probs[df_agreement['signal'].values == 0],\n",
    "    agreement_probs[df_agreement['signal'].values == 1],\n",
    "    df_agreement[df_agreement['signal'] == 0]['weight'].values,\n",
    "    df_agreement[df_agreement['signal'] == 1]['weight'].values)\n",
    "print ('KS metric:', ks, \"is OK:\", ks < 0.09)"
   ],
   "execution_count": 33,
   "outputs": [
    {
     "name": "stdout",
     "text": [
      "KS metric: 0.2511837897240625 is OK: False\n"
     ],
     "output_type": "stream"
    }
   ]
  },
  {
   "cell_type": "code",
   "metadata": {
    "id": "mT-0vnzVqk3u",
    "colab_type": "code",
    "colab": {},
    "pycharm": {
     "is_executing": false
    }
   },
   "source": [
    "def plot_ks(X_agreement, y_pred):\n",
    "    sig_ind = X_agreement[X_agreement['signal'] == 1].index\n",
    "    bck_ind = X_agreement[X_agreement['signal'] == 0].index\n",
    "\n",
    "    mc_prob = y_pred[sig_ind]\n",
    "    mc_weight = numpy.array(X_agreement.loc[sig_ind]['weight'])\n",
    "    data_prob = y_pred[bck_ind]\n",
    "    data_weight = numpy.array(X_agreement.loc[bck_ind]['weight'])\n",
    "    inds = data_weight < 0\n",
    "    mc_weight = numpy.array(list(mc_weight) + list(-data_weight[inds]))\n",
    "    mc_prob = numpy.array(list(mc_prob) + list(data_prob[inds]))\n",
    "    data_prob = data_prob[data_weight >= 0]\n",
    "    data_weight = data_weight[data_weight >= 0]\n",
    "    plt.hist(data_prob, weights=data_weight, color='r', histtype='step', normed=True, bins=60, label='data')\n",
    "    plt.hist(mc_prob, weights=mc_weight, color='b', histtype='step', normed=True, bins=60, label='mc')\n",
    "    plt.xlabel(\"prediction\")\n",
    "    plt.legend(loc=2)\n",
    "    plt.show()"
   ],
   "execution_count": 35,
   "outputs": []
  },
  {
   "cell_type": "code",
   "metadata": {
    "id": "KpMO-Hfuqk3v",
    "colab_type": "code",
    "outputId": "64b6f1b0-3ff7-478b-b05e-1034ad722c0d",
    "colab": {
     "base_uri": "https://localhost:8080/",
     "height": 380
    },
    "pycharm": {
     "is_executing": false
    }
   },
   "source": [
    "plot_ks(df_agreement, agreement_probs)"
   ],
   "execution_count": 36,
   "outputs": [
    {
     "name": "stderr",
     "text": [
      "/home/mohammad/PycharmProjects/Large Hadron Collider Challenges/venv/lib/python3.7/site-packages/ipykernel_launcher.py:14: MatplotlibDeprecationWarning: \n",
      "The 'normed' kwarg was deprecated in Matplotlib 2.1 and will be removed in 3.1. Use 'density' instead.\n",
      "  \n",
      "/home/mohammad/PycharmProjects/Large Hadron Collider Challenges/venv/lib/python3.7/site-packages/ipykernel_launcher.py:15: MatplotlibDeprecationWarning: \n",
      "The 'normed' kwarg was deprecated in Matplotlib 2.1 and will be removed in 3.1. Use 'density' instead.\n",
      "  from ipykernel import kernelapp as app\n"
     ],
     "output_type": "stream"
    },
    {
     "data": {
      "text/plain": "<Figure size 432x288 with 1 Axes>",
      "image/png": "[encoded data removed]"
     },
     "metadata": {
      "needs_background": "light"
     },
     "output_type": "display_data"
    }
   ]
  },
  {
   "cell_type": "markdown",
   "metadata": {
    "id": "B-tR5QzOqk3x",
    "colab_type": "text"
   },
   "source": [
    "### Let's see if adding some noise can improve the agreement"
   ]
  },
  {
   "cell_type": "code",
   "metadata": {
    "id": "Avzh5vGxqk3y",
    "colab_type": "code",
    "colab": {},
    "pycharm": {
     "is_executing": false
    }
   },
   "source": [
    "def add_noise(array, level=0.25, random_seed=34):\n",
    "    numpy.random.seed(random_seed)\n",
    "    return level * numpy.random.random(size=array.size) + (1 - level) * array"
   ],
   "execution_count": 53,
   "outputs": []
  },
  {
   "cell_type": "code",
   "metadata": {
    "id": "w9PN8wp6qk31",
    "colab_type": "code",
    "colab": {},
    "pycharm": {
     "is_executing": false
    }
   },
   "source": [
    "agreement_probs_noise = add_noise(clf.predict_proba(df_agreement[variables])[:, 1])"
   ],
   "execution_count": 54,
   "outputs": []
  },
  {
   "cell_type": "code",
   "metadata": {
    "id": "gipAazokqk33",
    "colab_type": "code",
    "outputId": "8096bf0a-48cb-4ec0-fcc3-8df823292abc",
    "colab": {
     "base_uri": "https://localhost:8080/",
     "height": 34
    },
    "pycharm": {
     "is_executing": false
    }
   },
   "source": [
    "ks_noise = compute_ks(\n",
    "    agreement_probs_noise[df_agreement['signal'].values == 0],\n",
    "    agreement_probs_noise[df_agreement['signal'].values == 1],\n",
    "    df_agreement[df_agreement['signal'] == 0]['weight'].values,\n",
    "    df_agreement[df_agreement['signal'] == 1]['weight'].values)\n",
    "print ('KS metric:', ks_noise, \"is OK:\", ks_noise < 0.09)"
   ],
   "execution_count": 55,
   "outputs": [
    {
     "name": "stdout",
     "text": [
      "KS metric: 0.08733705412716242 is OK: True\n"
     ],
     "output_type": "stream"
    }
   ]
  },
  {
   "cell_type": "code",
   "metadata": {
    "id": "OfpxX5Nmqk35",
    "colab_type": "code",
    "outputId": "c5fae4e4-74d8-46f9-d78c-8ad31c977e76",
    "colab": {
     "base_uri": "https://localhost:8080/",
     "height": 380
    },
    "pycharm": {
     "is_executing": false
    }
   },
   "source": [
    "plot_ks(df_agreement, agreement_probs_noise)"
   ],
   "execution_count": 56,
   "outputs": [
    {
     "name": "stderr",
     "text": [
      "/home/mohammad/PycharmProjects/Large Hadron Collider Challenges/venv/lib/python3.7/site-packages/ipykernel_launcher.py:14: MatplotlibDeprecationWarning: \n",
      "The 'normed' kwarg was deprecated in Matplotlib 2.1 and will be removed in 3.1. Use 'density' instead.\n",
      "  \n",
      "/home/mohammad/PycharmProjects/Large Hadron Collider Challenges/venv/lib/python3.7/site-packages/ipykernel_launcher.py:15: MatplotlibDeprecationWarning: \n",
      "The 'normed' kwarg was deprecated in Matplotlib 2.1 and will be removed in 3.1. Use 'density' instead.\n",
      "  from ipykernel import kernelapp as app\n"
     ],
     "output_type": "stream"
    },
    {
     "data": {
      "text/plain": "<Figure size 432x288 with 1 Axes>",
      "image/png": "[encoded data removed]"
     },
     "metadata": {
      "needs_background": "light"
     },
     "output_type": "display_data"
    }
   ]
  },
  {
   "cell_type": "markdown",
   "metadata": {
    "id": "D-ZOk-vTqk37",
    "colab_type": "text"
   },
   "source": [
    "### Check ROC with noise"
   ]
  },
  {
   "cell_type": "code",
   "metadata": {
    "id": "rH5Wjtreqk3_",
    "colab_type": "code",
    "outputId": "f0e606d4-2cbe-42a2-be01-d5e9030c1a5e",
    "colab": {
     "base_uri": "https://localhost:8080/",
     "height": 312
    },
    "pycharm": {
     "is_executing": false
    }
   },
   "source": [
    "y_pred = add_noise(clf.predict_proba(test[variables])[:, 1])\n",
    "\n",
    "plot_metrics(test['signal'], y_pred)"
   ],
   "execution_count": 57,
   "outputs": [
    {
     "data": {
      "text/plain": "<Figure size 432x288 with 1 Axes>",
      "image/png": "[encoded data removed]"
     },
     "metadata": {
      "needs_background": "light"
     },
     "output_type": "display_data"
    }
   ]
  },
  {
   "cell_type": "markdown",
   "metadata": {
    "id": "1Vih7wWrqk4E",
    "colab_type": "text"
   },
   "source": [
    "# Train the model using the whole training sample"
   ]
  },
  {
   "cell_type": "code",
   "metadata": {
    "id": "4y3oQLATqk4I",
    "colab_type": "code",
    "outputId": "908a430d-cf94-414c-ee4d-fa179c7cbbac",
    "colab": {
     "base_uri": "https://localhost:8080/",
     "height": 302
    },
    "pycharm": {
     "is_executing": false
    }
   },
   "source": [
    "%time clf.fit(train_ada[variables], train_ada['signal'])"
   ],
   "execution_count": null,
   "outputs": []
  },
  {
   "cell_type": "markdown",
   "metadata": {
    "id": "Bhx0Gd1Gqk4L",
    "colab_type": "text"
   },
   "source": [
    "Compute prediction and add noise"
   ]
  },
  {
   "cell_type": "code",
   "metadata": {
    "id": "4KExJ0w2qk4M",
    "colab_type": "code",
    "colab": {},
    "pycharm": {
     "is_executing": false
    }
   },
   "source": [
    "y_pred = add_noise(clf.predict_proba(test_ada[variables])[:, 1])"
   ],
   "execution_count": null,
   "outputs": []
  },
  {
   "cell_type": "markdown",
   "metadata": {
    "id": "QYXc7Ticqk4O",
    "colab_type": "text"
   },
   "source": [
    "# Prepare submission file"
   ]
  },
  {
   "cell_type": "code",
   "metadata": {
    "id": "t4G7PHxLqk4O",
    "colab_type": "code",
    "colab": {},
    "pycharm": {
     "is_executing": false
    }
   },
   "source": [
    "def save_submission(y_pred, index, filename='result'):\n",
    "    sep = ','\n",
    "    filename = '{}.csv.gz'.format(filename)\n",
    "    pandas.DataFrame({'id': index, 'prediction': y_pred}).to_csv(\n",
    "                filename, sep=sep, index=False, compression='gzip')\n",
    "    print (\"Saved file: \", filename, \"\\nShape:\", (y_pred.shape[0], 2))\n",
    "    return filename"
   ],
   "execution_count": null,
   "outputs": []
  },
  {
   "cell_type": "code",
   "metadata": {
    "id": "yzQzUvvrqk4R",
    "colab_type": "code",
    "outputId": "bb1875ac-c7b3-4fe1-b7d7-6e4e7e54cf4a",
    "colab": {
     "base_uri": "https://localhost:8080/",
     "height": 67
    },
    "pycharm": {
     "is_executing": false
    }
   },
   "source": [
    "save_submission(y_pred, test_ada.index, \"sample_submission\")"
   ],
   "execution_count": null,
   "outputs": []
  }
 ]
}